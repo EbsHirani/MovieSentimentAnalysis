{
  "nbformat": 4,
  "nbformat_minor": 0,
  "metadata": {
    "colab": {
      "name": "moviesentiment.ipynb",
      "provenance": []
    },
    "kernelspec": {
      "name": "python3",
      "display_name": "Python 3"
    }
  },
  "cells": [
    {
      "cell_type": "code",
      "metadata": {
        "id": "M49L52j499QS",
        "colab_type": "code",
        "colab": {
          "base_uri": "https://localhost:8080/",
          "height": 52
        },
        "outputId": "e3f41da0-3d4a-4f68-8a20-ccead5640fe2"
      },
      "source": [
        "import nltk\n",
        "import random\n",
        "nltk.download(\"movie_reviews\")\n",
        "from nltk.corpus import movie_reviews"
      ],
      "execution_count": 3,
      "outputs": [
        {
          "output_type": "stream",
          "text": [
            "[nltk_data] Downloading package movie_reviews to /root/nltk_data...\n",
            "[nltk_data]   Unzipping corpora/movie_reviews.zip.\n"
          ],
          "name": "stdout"
        }
      ]
    },
    {
      "cell_type": "code",
      "metadata": {
        "id": "OFpn4JnC-1k2",
        "colab_type": "code",
        "colab": {}
      },
      "source": [
        "documents = [(list(movie_reviews.words(fileid)), category) for category in movie_reviews.categories() for fileid in movie_reviews.fileids(category)]\n",
        "random.shuffle(documents)  \n"
      ],
      "execution_count": 0,
      "outputs": []
    },
    {
      "cell_type": "code",
      "metadata": {
        "id": "qum5g-kaFFSm",
        "colab_type": "code",
        "colab": {
          "base_uri": "https://localhost:8080/",
          "height": 35
        },
        "outputId": "e993d4e9-4db6-4923-ddd5-42fad46d0814"
      },
      "source": [
        "word_set = [w.lower() for w in movie_reviews.words()]\n",
        "word_freq = nltk.FreqDist(word_set)\n",
        "print(word_freq.most_common(3))"
      ],
      "execution_count": 12,
      "outputs": [
        {
          "output_type": "stream",
          "text": [
            "[(',', 77717), ('the', 76529), ('.', 65876)]\n"
          ],
          "name": "stdout"
        }
      ]
    },
    {
      "cell_type": "code",
      "metadata": {
        "id": "2vdA5WD_H1S2",
        "colab_type": "code",
        "colab": {}
      },
      "source": [
        "word_features = list(word_freq.keys())[:3000]\n",
        "def get_features(doc):\n",
        "  word_set = set(doc)\n",
        "  features = {}\n",
        "  for word in word_features:\n",
        "    features[word] = (word in word_set)\n",
        "  return features\n",
        "featureset = [(get_features(doc), category) for doc, category in documents]"
      ],
      "execution_count": 0,
      "outputs": []
    },
    {
      "cell_type": "code",
      "metadata": {
        "id": "EroQYcPyQTKD",
        "colab_type": "code",
        "colab": {
          "base_uri": "https://localhost:8080/",
          "height": 35
        },
        "outputId": "4ce5f4fe-4721-4ddd-ea27-4e776ff7a201"
      },
      "source": [
        "train = featureset[:1900]\n",
        "test = featureset[1900:]\n",
        "classifier = nltk.NaiveBayesClassifier.train(train)\n",
        "print(f\"Accuracy : {nltk.classify.accuracy(classifier, test)*100}\")\n",
        "\n"
      ],
      "execution_count": 19,
      "outputs": [
        {
          "output_type": "stream",
          "text": [
            "Accuracy : 81.0\n"
          ],
          "name": "stdout"
        }
      ]
    },
    {
      "cell_type": "code",
      "metadata": {
        "id": "vIW27Q6DUrpa",
        "colab_type": "code",
        "colab": {
          "base_uri": "https://localhost:8080/",
          "height": 208
        },
        "outputId": "fa5c3c4f-0aad-4093-fe98-7650d5cd9415"
      },
      "source": [
        "classifier.show_most_informative_features()"
      ],
      "execution_count": 20,
      "outputs": [
        {
          "output_type": "stream",
          "text": [
            "Most Informative Features\n",
            "                   sucks = True              neg : pos    =     10.7 : 1.0\n",
            "                  annual = True              pos : neg    =      9.6 : 1.0\n",
            "                 idiotic = True              neg : pos    =      8.8 : 1.0\n",
            "           unimaginative = True              neg : pos    =      8.4 : 1.0\n",
            "                 frances = True              pos : neg    =      8.2 : 1.0\n",
            "             silverstone = True              neg : pos    =      7.7 : 1.0\n",
            "              schumacher = True              neg : pos    =      7.5 : 1.0\n",
            "                    mena = True              neg : pos    =      7.1 : 1.0\n",
            "                  suvari = True              neg : pos    =      7.1 : 1.0\n",
            "                  regard = True              pos : neg    =      6.9 : 1.0\n"
          ],
          "name": "stdout"
        }
      ]
    }
  ]
}