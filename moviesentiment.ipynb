{
  "nbformat": 4,
  "nbformat_minor": 0,
  "metadata": {
    "colab": {
      "name": "moviesentiment.ipynb",
      "provenance": [],
      "collapsed_sections": [],
      "authorship_tag": "ABX9TyPv9mSZeqk9ZVPVRjQ/UGMR",
      "include_colab_link": true
    },
    "kernelspec": {
      "name": "python3",
      "display_name": "Python 3"
    }
  },
  "cells": [
    {
      "cell_type": "markdown",
      "metadata": {
        "id": "view-in-github",
        "colab_type": "text"
      },
      "source": [
        "<a href=\"https://colab.research.google.com/github/EbsHirani/MovieSentimentAnalysis/blob/master/moviesentiment.ipynb\" target=\"_parent\"><img src=\"https://colab.research.google.com/assets/colab-badge.svg\" alt=\"Open In Colab\"/></a>"
      ]
    },
    {
      "cell_type": "code",
      "metadata": {
        "id": "M49L52j499QS",
        "colab_type": "code",
        "outputId": "37619f16-9c82-41df-f069-95ddd4c31ad3",
        "colab": {
          "base_uri": "https://localhost:8080/",
          "height": 52
        }
      },
      "source": [
        "import nltk\n",
        "import random\n",
        "from nltk.classify.scikitlearn import SklearnClassifier\n",
        "from sklearn.naive_bayes import MultinomialNB, GaussianNB, BernoulliNB\n",
        "nltk.download(\"movie_reviews\")\n",
        "from nltk.corpus import movie_reviews"
      ],
      "execution_count": 1,
      "outputs": [
        {
          "output_type": "stream",
          "text": [
            "[nltk_data] Downloading package movie_reviews to /root/nltk_data...\n",
            "[nltk_data]   Unzipping corpora/movie_reviews.zip.\n"
          ],
          "name": "stdout"
        }
      ]
    },
    {
      "cell_type": "code",
      "metadata": {
        "id": "S7PvQASVv2Sx",
        "colab_type": "code",
        "colab": {}
      },
      "source": [
        "from sklearn.linear_model import LogisticRegression, SGDClassifier\n",
        "from sklearn.svm import SVC, LinearSVC, NuSVC\n",
        "from nltk.classify import ClassifierI\n",
        "from statistics import mode"
      ],
      "execution_count": 0,
      "outputs": []
    },
    {
      "cell_type": "code",
      "metadata": {
        "id": "MOdF7bdX1XST",
        "colab_type": "code",
        "colab": {}
      },
      "source": [
        "class VoteClassifier(ClassifierI):\n",
        "  def __init__(self, *classifiers):\n",
        "    self._classifiers = classifiers\n",
        "  def classify(self, features):\n",
        "    votes = []\n",
        "    for classifier in self._classifiers:\n",
        "      vote = classifier.classify(features)\n",
        "      votes.append(vote)\n",
        "      return mode(votes)\n",
        "  def confidence(self, features):\n",
        "    votes = []\n",
        "    for classifier in self._classifiers:\n",
        "      vote = classifier.classify(features)\n",
        "      votes.append(vote)\n",
        "      return votes.count(mode(votes)) / len(votes)    "
      ],
      "execution_count": 0,
      "outputs": []
    },
    {
      "cell_type": "code",
      "metadata": {
        "id": "OFpn4JnC-1k2",
        "colab_type": "code",
        "colab": {}
      },
      "source": [
        "documents = [(list(movie_reviews.words(fileid)), category) for category in movie_reviews.categories() for fileid in movie_reviews.fileids(category)]\n",
        "random.shuffle(documents)  \n"
      ],
      "execution_count": 0,
      "outputs": []
    },
    {
      "cell_type": "code",
      "metadata": {
        "id": "qum5g-kaFFSm",
        "colab_type": "code",
        "outputId": "8d6e20ac-d193-424c-d2da-cf5ae08f79a0",
        "colab": {
          "base_uri": "https://localhost:8080/",
          "height": 35
        }
      },
      "source": [
        "word_set = [w.lower() for w in movie_reviews.words()]\n",
        "word_freq = nltk.FreqDist(word_set)\n",
        "print(word_freq.most_common(3))"
      ],
      "execution_count": 3,
      "outputs": [
        {
          "output_type": "stream",
          "text": [
            "[(',', 77717), ('the', 76529), ('.', 65876)]\n"
          ],
          "name": "stdout"
        }
      ]
    },
    {
      "cell_type": "code",
      "metadata": {
        "id": "2vdA5WD_H1S2",
        "colab_type": "code",
        "colab": {}
      },
      "source": [
        "word_features = list(word_freq.keys())[:3000]\n",
        "def get_features(doc):\n",
        "  word_set = set(doc)\n",
        "  features = {}\n",
        "  for word in word_features:\n",
        "    features[word] = (word in word_set)\n",
        "  return features\n",
        "featureset = [(get_features(doc), category) for doc, category in documents]"
      ],
      "execution_count": 0,
      "outputs": []
    },
    {
      "cell_type": "code",
      "metadata": {
        "id": "EroQYcPyQTKD",
        "colab_type": "code",
        "outputId": "e321655a-179d-4da1-d91d-d4fbaffbeefc",
        "colab": {
          "base_uri": "https://localhost:8080/",
          "height": 35
        }
      },
      "source": [
        "train = featureset[:1900]\n",
        "test = featureset[1900:]\n",
        "classifier = nltk.NaiveBayesClassifier.train(train)\n",
        "print(f\"Accuracy : {nltk.classify.accuracy(classifier, test)*100}\")\n",
        "\n"
      ],
      "execution_count": 5,
      "outputs": [
        {
          "output_type": "stream",
          "text": [
            "Accuracy : 84.0\n"
          ],
          "name": "stdout"
        }
      ]
    },
    {
      "cell_type": "code",
      "metadata": {
        "id": "vIW27Q6DUrpa",
        "colab_type": "code",
        "outputId": "ca657791-d753-424e-cc2f-4aa5ca8a5f40",
        "colab": {
          "base_uri": "https://localhost:8080/",
          "height": 208
        }
      },
      "source": [
        "classifier.show_most_informative_features()"
      ],
      "execution_count": 6,
      "outputs": [
        {
          "output_type": "stream",
          "text": [
            "Most Informative Features\n",
            "                 miscast = True              neg : pos    =     14.0 : 1.0\n",
            "                   sucks = True              neg : pos    =     10.4 : 1.0\n",
            "                 frances = True              pos : neg    =      9.2 : 1.0\n",
            "                  turkey = True              neg : pos    =      8.2 : 1.0\n",
            "           unimaginative = True              neg : pos    =      8.1 : 1.0\n",
            "                  annual = True              pos : neg    =      7.8 : 1.0\n",
            "                  regard = True              pos : neg    =      7.2 : 1.0\n",
            "                 idiotic = True              neg : pos    =      7.1 : 1.0\n",
            "                  shoddy = True              neg : pos    =      6.8 : 1.0\n",
            "                  suvari = True              neg : pos    =      6.8 : 1.0\n"
          ],
          "name": "stdout"
        }
      ]
    },
    {
      "cell_type": "code",
      "metadata": {
        "id": "8FXAgXMQtV6G",
        "colab_type": "code",
        "colab": {
          "base_uri": "https://localhost:8080/",
          "height": 35
        },
        "outputId": "bc851c51-f9da-40cd-8b27-28ef913a82a3"
      },
      "source": [
        "multi = SklearnClassifier(MultinomialNB())\n",
        "multi.train(train)\n",
        "print(f\"Accuracy : {nltk.classify.accuracy(multi, test)*100}\")"
      ],
      "execution_count": 7,
      "outputs": [
        {
          "output_type": "stream",
          "text": [
            "Accuracy : 84.0\n"
          ],
          "name": "stdout"
        }
      ]
    },
    {
      "cell_type": "code",
      "metadata": {
        "id": "5JKoW_9puMgo",
        "colab_type": "code",
        "colab": {
          "base_uri": "https://localhost:8080/",
          "height": 35
        },
        "outputId": "fbb680b0-18da-4667-a88e-446a7a16b2e5"
      },
      "source": [
        "bernoulli = SklearnClassifier(BernoulliNB())\n",
        "bernoulli.train(train)\n",
        "print(f\"Accuracy : {nltk.classify.accuracy(bernoulli, test)*100}\")"
      ],
      "execution_count": 10,
      "outputs": [
        {
          "output_type": "stream",
          "text": [
            "Accuracy : 84.0\n"
          ],
          "name": "stdout"
        }
      ]
    },
    {
      "cell_type": "code",
      "metadata": {
        "id": "Ee0znKF-x860",
        "colab_type": "code",
        "colab": {
          "base_uri": "https://localhost:8080/",
          "height": 173
        },
        "outputId": "6c3c7307-238e-4947-f093-529df8c68afd"
      },
      "source": [
        "logistic = SklearnClassifier(LogisticRegression())\n",
        "logistic.train(train)\n",
        "print(f\"Accuracy : {nltk.classify.accuracy(logistic, test)*100}\")"
      ],
      "execution_count": 19,
      "outputs": [
        {
          "output_type": "stream",
          "text": [
            "Accuracy : 85.0\n"
          ],
          "name": "stdout"
        },
        {
          "output_type": "stream",
          "text": [
            "/usr/local/lib/python3.6/dist-packages/sklearn/linear_model/_logistic.py:940: ConvergenceWarning: lbfgs failed to converge (status=1):\n",
            "STOP: TOTAL NO. of ITERATIONS REACHED LIMIT.\n",
            "\n",
            "Increase the number of iterations (max_iter) or scale the data as shown in:\n",
            "    https://scikit-learn.org/stable/modules/preprocessing.html\n",
            "Please also refer to the documentation for alternative solver options:\n",
            "    https://scikit-learn.org/stable/modules/linear_model.html#logistic-regression\n",
            "  extra_warning_msg=_LOGISTIC_SOLVER_CONVERGENCE_MSG)\n"
          ],
          "name": "stderr"
        }
      ]
    },
    {
      "cell_type": "code",
      "metadata": {
        "id": "rg4yLiLsyQ1s",
        "colab_type": "code",
        "colab": {
          "base_uri": "https://localhost:8080/",
          "height": 35
        },
        "outputId": "f52dd936-e2bd-4312-e93c-fb9425c5d871"
      },
      "source": [
        "sgd = SklearnClassifier(SGDClassifier())\n",
        "sgd.train(train)\n",
        "print(f\"Accuracy : {nltk.classify.accuracy(sgd, test)*100}\")"
      ],
      "execution_count": 20,
      "outputs": [
        {
          "output_type": "stream",
          "text": [
            "Accuracy : 85.0\n"
          ],
          "name": "stdout"
        }
      ]
    },
    {
      "cell_type": "code",
      "metadata": {
        "id": "CS_DHvFKyc_s",
        "colab_type": "code",
        "colab": {
          "base_uri": "https://localhost:8080/",
          "height": 35
        },
        "outputId": "c4c7b414-22ca-412f-ce48-969fbf42da6f"
      },
      "source": [
        "svc = SklearnClassifier(SVC())\n",
        "svc.train(train)\n",
        "print(f\"Accuracy : {nltk.classify.accuracy(svc, test)*100}\")\n"
      ],
      "execution_count": 21,
      "outputs": [
        {
          "output_type": "stream",
          "text": [
            "Accuracy : 85.0\n"
          ],
          "name": "stdout"
        }
      ]
    },
    {
      "cell_type": "code",
      "metadata": {
        "id": "7m6kKG0Jyw6K",
        "colab_type": "code",
        "colab": {
          "base_uri": "https://localhost:8080/",
          "height": 35
        },
        "outputId": "19103368-d807-45c6-97b4-16ed6785be2d"
      },
      "source": [
        "lsvc = SklearnClassifier(LinearSVC())\n",
        "lsvc.train(train)\n",
        "print(f\"Accuracy : {nltk.classify.accuracy(lsvc, test)*100}\")\n"
      ],
      "execution_count": 22,
      "outputs": [
        {
          "output_type": "stream",
          "text": [
            "Accuracy : 85.0\n"
          ],
          "name": "stdout"
        }
      ]
    },
    {
      "cell_type": "code",
      "metadata": {
        "id": "FBWhq-hFy9JI",
        "colab_type": "code",
        "colab": {
          "base_uri": "https://localhost:8080/",
          "height": 35
        },
        "outputId": "4d7f3bc6-b79c-4ca3-d1b2-7212df513e3a"
      },
      "source": [
        "nsvc = SklearnClassifier(NuSVC())\n",
        "nsvc.train(train)\n",
        "print(f\"Accuracy : {nltk.classify.accuracy(nsvc, test)*100}\")\n"
      ],
      "execution_count": 23,
      "outputs": [
        {
          "output_type": "stream",
          "text": [
            "Accuracy : 87.0\n"
          ],
          "name": "stdout"
        }
      ]
    },
    {
      "cell_type": "code",
      "metadata": {
        "id": "x7KbszO1z4Tv",
        "colab_type": "code",
        "colab": {
          "base_uri": "https://localhost:8080/",
          "height": 35
        },
        "outputId": "fb28b0d1-2a54-48cd-a8e0-fc04127e0a64"
      },
      "source": [
        "voted_classifier = VoteClassifier(nsvc, lsvc, svc, sgd, logistic, bernoulli, multi, classifier)\n",
        "print(f\"Accuracy : {nltk.classify.accuracy(voted_classifier, test)*100}\")\n"
      ],
      "execution_count": 29,
      "outputs": [
        {
          "output_type": "stream",
          "text": [
            "Accuracy : 87.0\n"
          ],
          "name": "stdout"
        }
      ]
    },
    {
      "cell_type": "code",
      "metadata": {
        "id": "H4tRfRaN7ZJn",
        "colab_type": "code",
        "colab": {
          "base_uri": "https://localhost:8080/",
          "height": 35
        },
        "outputId": "6e478361-6fae-43e7-8ec0-1ab7fedc7839"
      },
      "source": [
        "print(f\"Output {voted_classifier.classify(test[0][0])} Confidence {voted_classifier.confidence(test[0][0])}\")"
      ],
      "execution_count": 37,
      "outputs": [
        {
          "output_type": "stream",
          "text": [
            "Output neg Confidence 1.0\n"
          ],
          "name": "stdout"
        }
      ]
    },
    {
      "cell_type": "code",
      "metadata": {
        "id": "jET4nBBV8ba9",
        "colab_type": "code",
        "colab": {
          "base_uri": "https://localhost:8080/",
          "height": 89
        },
        "outputId": "c186953c-a8b4-46a1-c55b-9eda3083828a"
      },
      "source": [
        "#\" \".join(documents[0][0])\n",
        "print(\"Classifying :\" + \" \".join(documents[0][0]) + f\" \\nClass : {voted_classifier.classify(get_features(documents[0][0]))} \\nConfidence : {voted_classifier.confidence(get_features(documents[0][0]))}\")"
      ],
      "execution_count": 42,
      "outputs": [
        {
          "output_type": "stream",
          "text": [
            "Classifying :is jimmy stewart the greatest actor of all - time ? it ' s quite possible . his career spanned over 40 years , and he acted in more movies than most actors ever could . yet , when he is talked about in the media , he is generally thought of as an actor who played one type of role : the nice guy . and that ' s really a shame . \" the naked spur \" features jimmy stewart in a role completely different than what people would expect from him . it ' s a western , which stewart specialized in around this period , and it casts him as a desperate man out to collect a bounty on a man who used to be his friend . before he finds that man , though , he runs into two men who agree to help him , thinking he is a sheriff . when the criminal is eventually caught , the two men discover stewart ' s secret , and decide they want a piece of the action too . the rest of the film is a suspenseful journey in which each man suspects the other constantly . also featured is the woman travelling with the criminal , well played by janet leigh . we ' re never too sure who ' s side she ' s really on until the end . leigh is an actress probably best known for her role as the \" shower lady \" from \" psycho \" , and that ' s unfair . she gives a strong performance as a woman who is pulled between these two men . stewart gives a performance unlike anything i ' ve ever seen from him . he usually keeps cool no matter what occurs , but here , he gets downright hysterical at times . i think perhaps he took this role to prove to the public that he was more than just a \" nice guy \" . his performance borders on psychotic at times , but i loved watching every second of it . it ' s roles like this one that make me admire him as much as i do . he was an actor unafraid to take chances , and even ruin his public image . \n",
            "Class : pos \n",
            "Confidence : 1.0\n"
          ],
          "name": "stdout"
        }
      ]
    }
  ]
}